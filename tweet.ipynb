{
 "metadata": {
  "language_info": {
   "codemirror_mode": {
    "name": "ipython",
    "version": 3
   },
   "file_extension": ".py",
   "mimetype": "text/x-python",
   "name": "python",
   "nbconvert_exporter": "python",
   "pygments_lexer": "ipython3",
   "version": "3.8.5-final"
  },
  "orig_nbformat": 2,
  "kernelspec": {
   "name": "python3",
   "display_name": "Python 3",
   "language": "python"
  }
 },
 "nbformat": 4,
 "nbformat_minor": 2,
 "cells": [
  {
   "cell_type": "code",
   "execution_count": 16,
   "metadata": {},
   "outputs": [],
   "source": [
    "from selenium import webdriver\n",
    "from selenium.webdriver.common.by import By\n",
    "from selenium.webdriver.support.ui import WebDriverWait\n",
    "from selenium.webdriver.support import expected_conditions as EC\n",
    "import time\n",
    "from selenium.webdriver.chrome.options import Options\n",
    "import openpyxl\n",
    "import tkinter as tk\n",
    "from tkinter import *\n",
    "from tkinter.filedialog import askopenfilename"
   ]
  },
  {
   "cell_type": "code",
   "execution_count": 70,
   "metadata": {},
   "outputs": [],
   "source": [
    "import tkinter as tk\n",
    "\n",
    "\n",
    "root=tk.Tk() \n",
    "root.title('TweetSnap')   \n",
    "root.geometry('500x100')\n",
    "lb1 = Label(root, text = \"Welcome, Please choose the excel file.\", font=\"Helvetica 16 bold italic\")\n",
    "lb1.grid(row = 0, column = 0)\n",
    "ent1=tk.Entry(root,font=\"Helvetica 16 bold italic\")\n",
    "ent1.grid(row=1,column=0)\n",
    "\n",
    "def browsefunc():\n",
    "    filename =tk.filedialog.askopenfilename(filetypes=((\"xlsx files\",\"*.xlsx\"),(\"All files\",\"*.*\")))\n",
    "    ent1.insert(tk.END, filename) # add this\n",
    "    print(filename)\n",
    "\n",
    "b1=tk.Button(root,text=\"Browse\",font=\"Helvetica 16 bold italic\",command=browsefunc)\n",
    "b1.grid(row=1,column=1)\n",
    "\n",
    "b2 = tk.Button(root, text = \"Start\", font = \"Helvetica 16 bold italic\", command = \" \")\n",
    "b2.grid(row=2, column=0)\n",
    "root.mainloop()"
   ]
  },
  {
   "cell_type": "code",
   "execution_count": 14,
   "metadata": {},
   "outputs": [
    {
     "output_type": "stream",
     "name": "stdout",
     "text": [
      "https://twitter.com/NASA/status/1349163381832314881\n"
     ]
    }
   ],
   "source": [
    "wb = openpyxl.load_workbook('./@Nasa_user_tweets - Copy.xlsx')\n",
    "ws = wb['tweets']\n",
    "print(ws.cell(row=2, column=1).hyperlink.target)"
   ]
  },
  {
   "cell_type": "code",
   "execution_count": 20,
   "metadata": {},
   "outputs": [
    {
     "output_type": "stream",
     "name": "stdout",
     "text": [
      "2\n"
     ]
    }
   ],
   "source": [
    "for i in range(2, ws.max_row+1):\n",
    "    link = ws.cell(row=2, column=1).hyperlink.target"
   ]
  },
  {
   "cell_type": "code",
   "execution_count": 98,
   "metadata": {},
   "outputs": [],
   "source": [
    "DRIVER_PATH = './chromedriver_linux64/chromedriver'\n",
    "\n",
    "options = Options()\n",
    "options.headless = True\n",
    "wd = webdriver.Chrome(executable_path=DRIVER_PATH, chrome_options= options)\n"
   ]
  },
  {
   "cell_type": "code",
   "execution_count": 99,
   "metadata": {},
   "outputs": [],
   "source": [
    "wd.get('https://tweetcyborg.com/')"
   ]
  },
  {
   "cell_type": "code",
   "execution_count": 100,
   "metadata": {},
   "outputs": [],
   "source": [
    "search_box = wd.find_element_by_class_name('url-input')\n",
    "search_box.send_keys('https://twitter.com/NASA/status/1349163381832314881')"
   ]
  },
  {
   "cell_type": "code",
   "execution_count": 101,
   "metadata": {},
   "outputs": [],
   "source": [
    "wd.find_element_by_class_name('download').click()\n",
    "time.sleep(1)\n",
    "element_present = EC.presence_of_element_located((By.CLASS_NAME, 'download'))\n",
    "WebDriverWait(wd, 20).until(element_present)\n",
    "\n",
    "wd.find_element_by_class_name('download').click()\n",
    "time.sleep(2)"
   ]
  },
  {
   "cell_type": "code",
   "execution_count": 102,
   "metadata": {},
   "outputs": [],
   "source": [
    "wd.quit()"
   ]
  },
  {
   "cell_type": "code",
   "execution_count": 76,
   "metadata": {},
   "outputs": [],
   "source": [
    "from tkinter import * \n",
    "from tkinter.ttk import *\n",
    "  \n",
    "# creating tkinter window \n",
    "root = Tk() \n",
    "  \n",
    "# Progress bar widget \n",
    "progress = Progressbar(root, orient = HORIZONTAL, \n",
    "              length = 100, mode = 'determinate') \n",
    "  \n",
    "# Function responsible for the updation \n",
    "# of the progress bar value \n",
    "vari = StringVar()\n",
    "label = Label(root, textvariable = vari).pack()\n",
    "def bar(): \n",
    "    import time \n",
    "    progress['value'] = 10\n",
    "    vari.set(\"10\")\n",
    "    root.update_idletasks() \n",
    "    time.sleep(1) \n",
    "  \n",
    "    progress['value'] = 20\n",
    "    vari.set(\"20\")\n",
    "    root.update_idletasks() \n",
    "    time.sleep(1) \n",
    "  \n",
    "    progress['value'] = 50\n",
    "    \n",
    "    root.update_idletasks() \n",
    "    time.sleep(1) \n",
    "  \n",
    "    progress['value'] = 60\n",
    "    \n",
    "    root.update_idletasks() \n",
    "    time.sleep(1) \n",
    "  \n",
    "    progress['value'] = 80\n",
    "    \n",
    "    root.update_idletasks() \n",
    "    # time.sleep(1) \n",
    "    progress['value'] = 100\n",
    "  \n",
    "progress.pack(pady = 10) \n",
    "  \n",
    "# This button will initialize \n",
    "# the progress bar \n",
    "Button(root, text = 'Start', command = bar).pack(pady = 10) \n",
    "  \n",
    "# infinite loop \n",
    "mainloop() "
   ]
  },
  {
   "cell_type": "code",
   "execution_count": null,
   "metadata": {},
   "outputs": [],
   "source": []
  }
 ]
}